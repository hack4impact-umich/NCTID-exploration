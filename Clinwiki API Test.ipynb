{
 "cells": [
  {
   "cell_type": "code",
   "execution_count": 82,
   "metadata": {},
   "outputs": [],
   "source": [
    "import requests\n",
    "import json\n",
    "import sqlite3\n",
    "import time\n",
    "import pandas as pd"
   ]
  },
  {
   "cell_type": "code",
   "execution_count": 109,
   "metadata": {},
   "outputs": [],
   "source": [
    "def getData(nct_id):\n",
    "    url = 'https://clinicaltrials.gov/api/query/study_fields?expr=' + nct_id + '&fields=NCTId%2CBriefTitle%2CCondition%2COrgFullName%2CBriefSummary%2CLocationCity%2CLocationContactEMail%2CLocationContactName%2CLocationContactPhone%2CLocationContactPhoneExt%2CLocationContactRole%2CLocationCountry%2CLocationFacility%2CLocationState%2CLocationStatus%2CLocationZip&min_rnk=1&max_rnk=&fmt=json'\n",
    "    \n",
    "    try:\n",
    "        req = requests.get(url)\n",
    "        print(\"Fetching data for\", nct_id)\n",
    "        data = json.loads(req.text)\n",
    "        facility = data[\"StudyFieldsResponse\"][\"StudyFields\"][0][\"LocationFacility\"][0]\n",
    "\n",
    "        return {'NCT_ID':nct_id, 'Location':facility}\n",
    "\n",
    "    \n",
    "    except:\n",
    "        print(\"Exception\")\n"
   ]
  },
  {
   "cell_type": "code",
   "execution_count": 110,
   "metadata": {},
   "outputs": [
    {
     "name": "stdout",
     "output_type": "stream",
     "text": [
      "Fetching data for NCT00001208\n",
      "Fetching data for NCT01874691\n",
      "        NCT_ID                                           Location\n",
      "0  NCT00001208  National Institutes of Health Clinical Center,...\n",
      "1  NCT01874691                                     Fuwai Hospital\n"
     ]
    }
   ],
   "source": [
    "df = pd.DataFrame(columns = ['NCT_ID', 'Location'])\n",
    "ids = [\"NCT00001208\", \"NCT01874691\"]\n",
    "\n",
    "for id in ids:\n",
    "    new_row = getData(id)\n",
    "    df = df.append(new_row, ignore_index=True)\n",
    "    \n",
    "print(df)"
   ]
  },
  {
   "cell_type": "code",
   "execution_count": null,
   "metadata": {},
   "outputs": [],
   "source": []
  }
 ],
 "metadata": {
  "kernelspec": {
   "display_name": "Python 3",
   "language": "python",
   "name": "python3"
  },
  "language_info": {
   "codemirror_mode": {
    "name": "ipython",
    "version": 3
   },
   "file_extension": ".py",
   "mimetype": "text/x-python",
   "name": "python",
   "nbconvert_exporter": "python",
   "pygments_lexer": "ipython3",
   "version": "3.7.6"
  }
 },
 "nbformat": 4,
 "nbformat_minor": 4
}
