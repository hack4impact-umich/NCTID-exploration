{
 "cells": [
  {
   "cell_type": "code",
   "execution_count": 11,
   "metadata": {},
   "outputs": [],
   "source": [
    "import requests\n",
    "import json\n",
    "import sqlite3\n",
    "import time\n",
    "import pandas as pd\n"
   ]
  },
  {
   "cell_type": "code",
   "execution_count": 16,
   "metadata": {},
   "outputs": [],
   "source": [
    "def getData():\n",
    "    nct_id = 'NCT00001208'\n",
    "    url='https://clinicaltrials.gov/api/query/study_fields?expr=' + nct_id + '&fields=NCTId%2CBriefTitle%2CCondition%2COrgFullName%2CBriefSummary%2CLocationCity%2CLocationContactEMail%2CLocationContactName%2CLocationContactPhone%2CLocationContactPhoneExt%2CLocationContactRole%2CLocationCountry%2CLocationFacility%2CLocationState%2CLocationStatus%2CLocationZip&min_rnk=1&max_rnk=&fmt=json'\n",
    "    try:\n",
    "        req=requests.get(url)\n",
    "        print(\"Fetching data from Clinwiki API...\")\n",
    "        data = json.loads(req.text)\n",
    "        print(data[\"StudyFieldsResponse\"][\"StudyFields\"][0][\"LocationFacility\"])\n",
    "    except:\n",
    "        print(\"Exception\")\n"
   ]
  },
  {
   "cell_type": "code",
   "execution_count": 17,
   "metadata": {},
   "outputs": [
    {
     "name": "stdout",
     "output_type": "stream",
     "text": [
      "Fetching data from Clinwiki API...\n",
      "['National Institutes of Health Clinical Center, 9000 Rockville Pike']\n"
     ]
    }
   ],
   "source": [
    "getData()"
   ]
  },
  {
   "cell_type": "code",
   "execution_count": null,
   "metadata": {},
   "outputs": [],
   "source": []
  }
 ],
 "metadata": {
  "kernelspec": {
   "display_name": "Python 3",
   "language": "python",
   "name": "python3"
  },
  "language_info": {
   "codemirror_mode": {
    "name": "ipython",
    "version": 3
   },
   "file_extension": ".py",
   "mimetype": "text/x-python",
   "name": "python",
   "nbconvert_exporter": "python",
   "pygments_lexer": "ipython3",
   "version": "3.7.6"
  }
 },
 "nbformat": 4,
 "nbformat_minor": 4
}
