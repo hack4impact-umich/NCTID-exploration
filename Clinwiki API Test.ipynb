{
 "cells": [
  {
   "cell_type": "code",
   "execution_count": 32,
   "metadata": {},
   "outputs": [],
   "source": [
    "import requests\n",
    "import json\n",
    "import sqlite3\n",
    "import time\n",
    "import pandas as pd\n",
    "import tabulate"
   ]
  },
  {
   "cell_type": "code",
   "execution_count": 33,
   "metadata": {},
   "outputs": [],
   "source": [
    "def getData(nct_id, fields):\n",
    "    url = 'https://clinicaltrials.gov/api/query/study_fields?expr=' + nct_id + '&fields=NCTId%2CBriefTitle%2CCondition%2COrgFullName%2CBriefSummary%2CLocationCity%2CLocationContactEMail%2CLocationContactName%2CLocationContactPhone%2CLocationContactPhoneExt%2CLocationContactRole%2CLocationCountry%2CLocationFacility%2CLocationState%2CLocationStatus%2CLocationZip&min_rnk=1&max_rnk=&fmt=json'\n",
    "    try:\n",
    "        req = requests.get(url)\n",
    "        print(\"Fetching data for\", nct_id)\n",
    "        data = json.loads(req.text)\n",
    "        res = {}\n",
    "        for field in fields:\n",
    "            tmp = data[\"StudyFieldsResponse\"][\"StudyFields\"][0][field]\n",
    "            res[field] = tmp[0] if tmp else \"\"\n",
    "        return res\n",
    "    except:\n",
    "        print(\"Error when fetching field\")\n"
   ]
  },
  {
   "cell_type": "code",
   "execution_count": null,
   "metadata": {
    "scrolled": false
   },
   "outputs": [],
   "source": [
    "fields = [\n",
    "         \"NCTId\",\n",
    "         \"BriefTitle\",\n",
    "         \"Condition\",\n",
    "         \"OrgFullName\",\n",
    "         \"BriefSummary\",\n",
    "         \"LocationCity\",\n",
    "         \"LocationContactEMail\",\n",
    "         \"LocationContactName\",\n",
    "         \"LocationContactPhone\",\n",
    "         \"LocationContactPhoneExt\",\n",
    "         \"LocationContactRole\",\n",
    "         \"LocationCountry\",\n",
    "         \"LocationFacility\",\n",
    "         \"LocationState\",\n",
    "         \"LocationStatus\",\n",
    "         \"LocationZip\"\n",
    "      ]\n",
    "df = pd.DataFrame(columns = fields)\n",
    "ids = [\"NCT00001208\",\"NCT01874691\"]\n",
    "\n",
    "for id in ids:\n",
    "    new_row = getData(id, fields)\n",
    "    df = df.append(new_row, ignore_index=True)\n",
    "    \n",
    "print(df.to_markdown())\n",
    "df.to_csv('test.csv', encoding='utf-8')"
   ]
  },
  {
   "cell_type": "code",
   "execution_count": null,
   "metadata": {},
   "outputs": [],
   "source": []
  }
 ],
 "metadata": {
  "kernelspec": {
   "display_name": "Python 3",
   "language": "python",
   "name": "python3"
  },
  "language_info": {
   "codemirror_mode": {
    "name": "ipython",
    "version": 3
   },
   "file_extension": ".py",
   "mimetype": "text/x-python",
   "name": "python",
   "nbconvert_exporter": "python",
   "pygments_lexer": "ipython3",
   "version": "3.7.6"
  }
 },
 "nbformat": 4,
 "nbformat_minor": 4
}
